{
 "cells": [
  {
   "cell_type": "code",
   "execution_count": 3,
   "id": "d21ec6d7",
   "metadata": {},
   "outputs": [],
   "source": [
    "import requests \n",
    "\n",
    "import json \n",
    "\n",
    "from datetime import date \n",
    "\n",
    "api_key='INSERT API KEY HERE'"
   ]
  },
  {
   "cell_type": "code",
   "execution_count": 5,
   "id": "18c5ec84",
   "metadata": {},
   "outputs": [
    {
     "data": {
      "text/plain": [
       "{'copyright': '\\nLuis Romero Ventura\\n',\n",
       " 'date': '2024-08-19',\n",
       " 'explanation': \"Inside the Cocoon Nebula is a newly developing cluster of stars. Cataloged as IC 5146, the beautiful nebula is nearly 15 light-years wide. Soaring high in northern summer night skies, it's located some 4,000 light years away toward the constellation of the Swan (Cygnus).  Like other star forming regions, it stands out in red, glowing, hydrogen gas excited by young, hot stars, and dust-reflected starlight at the edge of an otherwise invisible molecular cloud.  In fact, the bright star found near the center of this nebula is likely only a few hundred thousand years old, powering the nebular glow as it clears out a cavity in the molecular cloud's star forming dust and gas. A 48-hour long integration resulted in this exceptionally deep color view tracing tantalizing features within and surrounding the dusty stellar nursery.\",\n",
       " 'hdurl': 'https://apod.nasa.gov/apod/image/2408/Cocoon_Ventura_2047.jpg',\n",
       " 'media_type': 'image',\n",
       " 'service_version': 'v1',\n",
       " 'title': 'IC 5146: The Cocoon Nebula',\n",
       " 'url': 'https://apod.nasa.gov/apod/image/2408/Cocoon_Ventura_960.jpg'}"
      ]
     },
     "execution_count": 5,
     "metadata": {},
     "output_type": "execute_result"
    }
   ],
   "source": [
    "url = f'https://api.nasa.gov/planetary/apod?api_key={api_key}'\n",
    "response = requests.get(url).json()\n",
    "response"
   ]
  },
  {
   "cell_type": "code",
   "execution_count": 8,
   "id": "9cc0e824",
   "metadata": {},
   "outputs": [],
   "source": [
    "today_image = response['hdurl']"
   ]
  },
  {
   "cell_type": "code",
   "execution_count": 10,
   "id": "8c0ee871",
   "metadata": {},
   "outputs": [],
   "source": [
    "with open(f'todays_image_{date.today()}.png', 'wb') as f:\n",
    "    f.write(requests.get(today_image).content)"
   ]
  }
 ],
 "metadata": {
  "kernelspec": {
   "display_name": "Python 3 (ipykernel)",
   "language": "python",
   "name": "python3"
  },
  "language_info": {
   "codemirror_mode": {
    "name": "ipython",
    "version": 3
   },
   "file_extension": ".py",
   "mimetype": "text/x-python",
   "name": "python",
   "nbconvert_exporter": "python",
   "pygments_lexer": "ipython3",
   "version": "3.10.4"
  }
 },
 "nbformat": 4,
 "nbformat_minor": 5
}
