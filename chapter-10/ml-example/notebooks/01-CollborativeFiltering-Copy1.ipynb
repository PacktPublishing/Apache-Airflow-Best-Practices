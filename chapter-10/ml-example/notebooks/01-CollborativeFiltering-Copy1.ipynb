{
 "cells": [
  {
   "cell_type": "code",
   "execution_count": 1,
   "metadata": {},
   "outputs": [],
   "source": [
    "from functools import partial\n",
    "import os\n",
    "from pathlib import Path\n",
    "import requests\n",
    "import zipfile\n",
    "\n",
    "import numpy as np\n",
    "import polars as pl\n",
    "\n",
    "DATASET_LOCATION='https://files.grouplens.org/datasets/movielens/ml-latest-small.zip'\n",
    "DATASET_HASH='https://files.grouplens.org/datasets/movielens/ml-latest-small.zip.md5'\n",
    "dst_d = Path.cwd() / '..' / 'data' "
   ]
  },
  {
   "cell_type": "code",
   "execution_count": 2,
   "metadata": {},
   "outputs": [],
   "source": [
    "def download_lens_data(source,destination):\n",
    "    \"\"\"Downloads movie lens data\n",
    "    \"\"\"\n",
    "    dst_f = Path(destination) / Path(source).name\n",
    "    r = requests.get(source)\n",
    "    if r.ok:\n",
    "        with open(dst_f,\"wb\") as f:\n",
    "            f.write(r.content)\n",
    "    return dst_f\n",
    "\n",
    "downloaded_files = download_lens_data(DATASET_LOCATION, dst_d)"
   ]
  },
  {
   "cell_type": "code",
   "execution_count": 3,
   "metadata": {},
   "outputs": [
    {
     "data": {
      "text/plain": [
       "[True, True]"
      ]
     },
     "execution_count": 3,
     "metadata": {},
     "output_type": "execute_result"
    }
   ],
   "source": [
    "def unzip_files(zipped_file,destination):\n",
    "    \"\"\"Unzips a movie lens data set file\n",
    "    \"\"\"\n",
    "    zip_dir = Path(zipped_file).stem\n",
    "    needed_files = [\"ratings.csv\", \"movies.csv\"]\n",
    "    needed_files = [ Path(zip_dir) / Path(f) for f in needed_files]\n",
    "    needed_files = [ Path(destination) / f for f in needed_files ]\n",
    "    \n",
    "    with zipfile.ZipFile(zipped_file,'r') as z:\n",
    "        z.extractall(destination)\n",
    "    return needed_files\n",
    "\n",
    "needed_files = unzip_files(downloaded_files, dst_d)\n",
    "[os.path.exists(f) for f in needed_files]\n"
   ]
  },
  {
   "cell_type": "code",
   "execution_count": null,
   "metadata": {},
   "outputs": [],
   "source": [
    "def generate_user_rating_matrix(ratings_csv, movies_csv):\n",
    "    combined_df = generate_individual_rating_list(ratings_csv, movies_csv)\n",
    "    pivot_table = combined_df.pivot(index=\"userId\",columns=\"movieId\",values=\"rating\").fill_null(0)\n",
    "    del combined_df\n",
    "    pivot_table.shrink_to_fit()\n",
    "    return pivot_table\n",
    "\n",
    "def generate_individual_rating_list(ratings_csv, movies_csv):\n",
    "    ratings_df = pl.read_csv(ratings_csv)\n",
    "    ratings_df.drop_in_place(\"timestamp\")\n",
    "    movies_df = pl.read_csv(movies_csv)\n",
    "    movies_df.drop_in_place(\"genres\")\n",
    "    combined_df = ratings_df.join(movies_df, on=\"movieId\")\n",
    "    combined_df.shrink_to_fit()\n",
    "    del movies_df\n",
    "    del ratings_df\n",
    "    return combined_df\n",
    "\n",
    "\n",
    "\n",
    "user_by_movie = generate_user_rating_matrix(needed_files[0],needed_files[1])\n",
    "movie_by_user = user_by_movie.drop('userId') \\\n",
    "                .transpose(include_header=True,header_name = \"movieId\") \\\n",
    "                .with_columns(pl.col(\"movieId\") \\\n",
    "                .cast(pl.Int32) \\\n",
    "                .alias(\"movieId\"))\n",
    "\n",
    "user_by_movie.head()"
   ]
  },
  {
   "cell_type": "code",
   "execution_count": 53,
   "metadata": {},
   "outputs": [
    {
     "data": {
      "text/plain": [
       "(array([[0.        , 0.52704923, 0.53062245, 0.53836875, 0.55042967,\n",
       "         0.57298059, 0.58257046, 0.58345172, 0.58746518, 0.58981538]]),\n",
       " array([[ 30,  22, 532, 314, 659, 472,  33, 479,  37, 321]]))"
      ]
     },
     "execution_count": 53,
     "metadata": {},
     "output_type": "execute_result"
    }
   ],
   "source": [
    "from sklearn.neighbors import NearestNeighbors\n",
    "\n",
    "user_similarity_model = NearestNeighbors(metric='cosine').fit(user_by_movie.drop('userId').to_numpy())\n",
    "\n",
    "\n",
    "                    \n",
    "movie_similarity_model = NearestNeighbors(metric='cosine').fit(movie_by_user.drop('movieId').to_numpy())\n",
    "\n"
   ]
  },
  {
   "cell_type": "code",
   "execution_count": 56,
   "metadata": {},
   "outputs": [
    {
     "name": "stdout",
     "output_type": "stream",
     "text": [
      "(array([[0.        , 0.61850506, 0.65826204, 0.66724988, 0.66758168,\n",
      "        0.67610218, 0.67687305, 0.68597053, 0.69128506, 0.69164247,\n",
      "        0.70532662, 0.70712772, 0.70845024, 0.71377231, 0.72897932,\n",
      "        0.74213   , 0.74959704, 0.75154782, 0.7515576 , 0.75206405,\n",
      "        0.7535064 , 0.75435387, 0.76309085, 0.76735666, 0.77140117,\n",
      "        0.77439913, 0.77702458, 0.78016313, 0.78286103, 0.78565483]]), array([[ 30,  70, 523, 269, 205, 213,  31, 388, 149, 275, 450, 303, 528,\n",
      "        363, 371, 349, 170, 455, 384, 268, 569, 336,  77,  83, 346, 119,\n",
      "        276, 313, 150, 219]]))\n"
     ]
    }
   ],
   "source": [
    "print(user_similarity_model.kneighbors(user_by_movie[30,].drop('userId').to_numpy(),n_neighbors = 30))"
   ]
  },
  {
   "cell_type": "code",
   "execution_count": 63,
   "metadata": {},
   "outputs": [
    {
     "name": "stdout",
     "output_type": "stream",
     "text": [
      "(array([[0.        , 0.3305461 , 0.340173  , 0.35464099, 0.35691009,\n",
      "        0.37237884, 0.37266198, 0.4016587 , 0.40257025, 0.4026831 ,\n",
      "        0.40809108, 0.40957609, 0.42769957, 0.43196691, 0.43407968,\n",
      "        0.43573732, 0.43931796, 0.44860449, 0.46656139, 0.46906173,\n",
      "        0.47302041, 0.47342152, 0.47423354, 0.48286965, 0.48640309,\n",
      "        0.48719359, 0.48843345, 0.49157234, 0.49848574, 0.49983288]]), array([[  7,  26, 478,  25,  20,  16, 472, 463,  32, 232,  33,   3,  34,\n",
      "         17,  22, 121, 621, 549, 464,  42,  19, 587, 166,  28, 531, 471,\n",
      "        633,  73, 322, 539]]))\n"
     ]
    }
   ],
   "source": [
    "print(movie_similarity_model.kneighbors(movie_by_user[7,].drop('movieId').to_numpy(),n_neighbors=30))"
   ]
  },
  {
   "cell_type": "code",
   "execution_count": 64,
   "metadata": {},
   "outputs": [
    {
     "data": {
      "text/html": [
       "<div><style>\n",
       ".dataframe > thead > tr,\n",
       ".dataframe > tbody > tr {\n",
       "  text-align: right;\n",
       "  white-space: pre-wrap;\n",
       "}\n",
       "</style>\n",
       "<small>shape: (27, 3)</small><table border=\"1\" class=\"dataframe\"><thead><tr><th>movieId</th><th>title</th><th>genres</th></tr><tr><td>i64</td><td>str</td><td>str</td></tr></thead><tbody><tr><td>3</td><td>&quot;Grumpier Old M…</td><td>&quot;Comedy|Romance…</td></tr><tr><td>7</td><td>&quot;Sabrina (1995)…</td><td>&quot;Comedy|Romance…</td></tr><tr><td>16</td><td>&quot;Casino (1995)&quot;</td><td>&quot;Crime|Drama&quot;</td></tr><tr><td>17</td><td>&quot;Sense and Sens…</td><td>&quot;Drama|Romance&quot;</td></tr><tr><td>19</td><td>&quot;Ace Ventura: W…</td><td>&quot;Comedy&quot;</td></tr><tr><td>20</td><td>&quot;Money Train (1…</td><td>&quot;Action|Comedy|…</td></tr><tr><td>22</td><td>&quot;Copycat (1995)…</td><td>&quot;Crime|Drama|Ho…</td></tr><tr><td>25</td><td>&quot;Leaving Las Ve…</td><td>&quot;Drama|Romance&quot;</td></tr><tr><td>26</td><td>&quot;Othello (1995)…</td><td>&quot;Drama&quot;</td></tr><tr><td>28</td><td>&quot;Persuasion (19…</td><td>&quot;Drama|Romance&quot;</td></tr><tr><td>32</td><td>&quot;Twelve Monkeys…</td><td>&quot;Mystery|Sci-Fi…</td></tr><tr><td>34</td><td>&quot;Babe (1995)&quot;</td><td>&quot;Children|Drama…</td></tr><tr><td>&hellip;</td><td>&hellip;</td><td>&hellip;</td></tr><tr><td>166</td><td>&quot;Doom Generatio…</td><td>&quot;Comedy|Crime|D…</td></tr><tr><td>232</td><td>&quot;Eat Drink Man …</td><td>&quot;Comedy|Drama|R…</td></tr><tr><td>322</td><td>&quot;Swimming with …</td><td>&quot;Comedy|Drama&quot;</td></tr><tr><td>464</td><td>&quot;Hard Target (1…</td><td>&quot;Action|Adventu…</td></tr><tr><td>471</td><td>&quot;Hudsucker Prox…</td><td>&quot;Comedy&quot;</td></tr><tr><td>472</td><td>&quot;I&#x27;ll Do Anythi…</td><td>&quot;Comedy|Drama&quot;</td></tr><tr><td>478</td><td>&quot;Jimmy Hollywoo…</td><td>&quot;Comedy|Crime|D…</td></tr><tr><td>531</td><td>&quot;Secret Garden,…</td><td>&quot;Children|Drama…</td></tr><tr><td>539</td><td>&quot;Sleepless in S…</td><td>&quot;Comedy|Drama|R…</td></tr><tr><td>549</td><td>&quot;Thirty-Two Sho…</td><td>&quot;Drama|Musical&quot;</td></tr><tr><td>587</td><td>&quot;Ghost (1990)&quot;</td><td>&quot;Comedy|Drama|F…</td></tr><tr><td>633</td><td>&quot;Denise Calls U…</td><td>&quot;Comedy&quot;</td></tr></tbody></table></div>"
      ],
      "text/plain": [
       "shape: (27, 3)\n",
       "┌─────────┬───────────────────────────────────┬───────────────────────────────────┐\n",
       "│ movieId ┆ title                             ┆ genres                            │\n",
       "│ ---     ┆ ---                               ┆ ---                               │\n",
       "│ i64     ┆ str                               ┆ str                               │\n",
       "╞═════════╪═══════════════════════════════════╪═══════════════════════════════════╡\n",
       "│ 3       ┆ Grumpier Old Men (1995)           ┆ Comedy|Romance                    │\n",
       "│ 7       ┆ Sabrina (1995)                    ┆ Comedy|Romance                    │\n",
       "│ 16      ┆ Casino (1995)                     ┆ Crime|Drama                       │\n",
       "│ 17      ┆ Sense and Sensibility (1995)      ┆ Drama|Romance                     │\n",
       "│ …       ┆ …                                 ┆ …                                 │\n",
       "│ 539     ┆ Sleepless in Seattle (1993)       ┆ Comedy|Drama|Romance              │\n",
       "│ 549     ┆ Thirty-Two Short Films About Gle… ┆ Drama|Musical                     │\n",
       "│ 587     ┆ Ghost (1990)                      ┆ Comedy|Drama|Fantasy|Romance|Thr… │\n",
       "│ 633     ┆ Denise Calls Up (1995)            ┆ Comedy                            │\n",
       "└─────────┴───────────────────────────────────┴───────────────────────────────────┘"
      ]
     },
     "execution_count": 64,
     "metadata": {},
     "output_type": "execute_result"
    }
   ],
   "source": [
    "movies_df.filter(pl.col(\"movieId\").is_in([  7,  26, 478,  25,  20,  16, 472, 463,  32, 232,  33,   3,  34,\n",
    "         17,  22, 121, 621, 549, 464,  42,  19, 587, 166,  28, 531, 471,\n",
    "        633,  73, 322, 539]))"
   ]
  },
  {
   "cell_type": "code",
   "execution_count": null,
   "metadata": {},
   "outputs": [],
   "source": [
    "+"
   ]
  }
 ],
 "metadata": {
  "kernelspec": {
   "display_name": "Python 3 (ipykernel)",
   "language": "python",
   "name": "python3"
  },
  "language_info": {
   "codemirror_mode": {
    "name": "ipython",
    "version": 3
   },
   "file_extension": ".py",
   "mimetype": "text/x-python",
   "name": "python",
   "nbconvert_exporter": "python",
   "pygments_lexer": "ipython3",
   "version": "3.10.12"
  }
 },
 "nbformat": 4,
 "nbformat_minor": 4
}
