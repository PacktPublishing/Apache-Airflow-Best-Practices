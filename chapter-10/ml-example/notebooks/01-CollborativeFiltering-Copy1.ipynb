{
 "cells": [
  {
   "cell_type": "code",
   "execution_count": 1,
   "metadata": {},
   "outputs": [],
   "source": [
    "import os\n",
    "from pathlib import Path\n",
    "import requests\n",
    "import zipfile\n",
    "\n",
    "import numpy as np\n",
    "import polars as pl\n",
    "\n",
    "from sklearn.neighbors import NearestNeighbors\n",
    "\n",
    "DATASET_LOCATION='https://files.grouplens.org/datasets/movielens/ml-latest-small.zip'\n",
    "DATASET_HASH='https://files.grouplens.org/datasets/movielens/ml-latest-small.zip.md5'\n",
    "dst_d = Path.cwd() / '..' / 'data' "
   ]
  },
  {
   "cell_type": "code",
   "execution_count": 2,
   "metadata": {},
   "outputs": [],
   "source": [
    "def download_lens_data(source,destination):\n",
    "    \"\"\"Downloads movie lens data\n",
    "    \"\"\"\n",
    "    dst_f = Path(destination) / Path(source).name\n",
    "    r = requests.get(source)\n",
    "    if r.ok:\n",
    "        with open(dst_f,\"wb\") as f:\n",
    "            f.write(r.content)\n",
    "    return dst_f\n",
    "\n",
    "downloaded_files = download_lens_data(DATASET_LOCATION, dst_d)"
   ]
  },
  {
   "cell_type": "code",
   "execution_count": null,
   "metadata": {},
   "outputs": [],
   "source": [
    "def unzip_files(zipped_file,destination):\n",
    "    \"\"\"Unzips a movie lens data set file\n",
    "    \"\"\"\n",
    "    zip_dir = Path(zipped_file).stem\n",
    "    needed_files = [\"ratings.csv\", \"movies.csv\"]\n",
    "    needed_files = [ Path(zip_dir) / Path(f) for f in needed_files]\n",
    "    needed_files = [ Path(destination) / f for f in needed_files ]\n",
    "    \n",
    "    with zipfile.ZipFile(zipped_file,'r') as z:\n",
    "        z.extractall(destination)\n",
    "    return needed_files\n",
    "\n",
    "needed_files = unzip_files(downloaded_files, dst_d)\n",
    "[os.path.exists(f) for f in needed_files]\n"
   ]
  },
  {
   "cell_type": "code",
   "execution_count": null,
   "metadata": {},
   "outputs": [],
   "source": [
    "def generate_user_rating_matrix(ratings_csv, movies_csv):\n",
    "    combined_df = generate_individual_rating_list(ratings_csv, movies_csv)\n",
    "    pivot_table = combined_df.pivot(index=\"userId\",columns=\"movieId\",values=\"rating\").fill_null(0)\n",
    "    del combined_df\n",
    "    pivot_table.shrink_to_fit()\n",
    "    return pivot_table\n",
    "\n",
    "def generate_individual_rating_list(ratings_csv, movies_csv):\n",
    "    ratings_df = pl.read_csv(ratings_csv)\n",
    "    ratings_df.drop_in_place(\"timestamp\")\n",
    "    movies_df = pl.read_csv(movies_csv)\n",
    "    movies_df.drop_in_place(\"genres\")\n",
    "    combined_df = ratings_df.join(movies_df, on=\"movieId\")\n",
    "    combined_df.shrink_to_fit()\n",
    "    del movies_df\n",
    "    del ratings_df\n",
    "    return combined_df\n",
    "\n",
    "\n",
    "\n",
    "user_by_movie = generate_user_rating_matrix(needed_files[0],needed_files[1])\n",
    "movie_by_user = user_by_movie.drop('userId') \\\n",
    "                .transpose(include_header=True,header_name = \"movieId\") \\\n",
    "                .with_columns(pl.col(\"movieId\") \\\n",
    "                .cast(pl.Int32) \\\n",
    "                .alias(\"movieId\"))\n",
    "\n",
    "user_by_movie.shape, movie_by_user.shape"
   ]
  },
  {
   "cell_type": "code",
   "execution_count": 5,
   "metadata": {},
   "outputs": [],
   "source": [
    "\n",
    "\n",
    "user_similarity_model = NearestNeighbors(metric='cosine').fit(user_by_movie.drop('userId').to_numpy())\n",
    "\n",
    "\n",
    "                    \n",
    "movie_similarity_model = NearestNeighbors(metric='cosine').fit(movie_by_user.drop('movieId').to_numpy())\n",
    "\n"
   ]
  },
  {
   "cell_type": "code",
   "execution_count": null,
   "metadata": {},
   "outputs": [],
   "source": [
    "print(user_similarity_model.kneighbors(user_by_movie[30,].drop('userId').to_numpy(),n_neighbors = 30))"
   ]
  },
  {
   "cell_type": "code",
   "execution_count": null,
   "metadata": {},
   "outputs": [],
   "source": [
    "print(movie_similarity_model.kneighbors(movie_by_user[7,].drop('movieId').to_numpy(),n_neighbors=30))"
   ]
  },
  {
   "cell_type": "code",
   "execution_count": null,
   "metadata": {},
   "outputs": [],
   "source": [
    "movie_by_user.filter(pl.col(\"movieId\").is_in([  7,  26, 478,  25,  20,  16, 472, 463,  32, 232,  33,   3,  34,\n",
    "         17,  22, 121, 621, 549, 464,  42,  19, 587, 166,  28, 531, 471,\n",
    "        633,  73, 322, 539]))"
   ]
  },
  {
   "cell_type": "code",
   "execution_count": null,
   "metadata": {},
   "outputs": [],
   "source": [
    "for r in movie_by_user.rows():\n",
    "    print (r[0], f\"'{list(r[1:])}'\")\n",
    "    break"
   ]
  },
  {
   "cell_type": "code",
   "execution_count": 35,
   "metadata": {},
   "outputs": [],
   "source": [
    "movie_by_user.write_parquet('test')\n",
    "\n",
    "x = pl.read_parquet('test')"
   ]
  },
  {
   "cell_type": "code",
   "execution_count": null,
   "metadata": {},
   "outputs": [],
   "source": [
    "x.head()"
   ]
  }
 ],
 "metadata": {
  "kernelspec": {
   "display_name": "Python 3 (ipykernel)",
   "language": "python",
   "name": "python3"
  },
  "language_info": {
   "codemirror_mode": {
    "name": "ipython",
    "version": 3
   },
   "file_extension": ".py",
   "mimetype": "text/x-python",
   "name": "python",
   "nbconvert_exporter": "python",
   "pygments_lexer": "ipython3",
   "version": "3.11.6"
  }
 },
 "nbformat": 4,
 "nbformat_minor": 4
}
