{
 "cells": [
  {
   "cell_type": "code",
   "execution_count": 1,
   "metadata": {},
   "outputs": [],
   "source": [
    "from functools import partial\n",
    "import os\n",
    "from pathlib import Path\n",
    "import requests\n",
    "import zipfile\n",
    "\n",
    "import numpy as np\n",
    "import polars as pl\n",
    "\n",
    "DATASET_LOCATION='https://files.grouplens.org/datasets/movielens/ml-latest-small.zip'\n",
    "DATASET_HASH='https://files.grouplens.org/datasets/movielens/ml-latest-small.zip.md5'\n",
    "dst_d = Path.cwd() / '..' / 'data' "
   ]
  },
  {
   "cell_type": "code",
   "execution_count": 2,
   "metadata": {},
   "outputs": [
    {
     "data": {
      "text/plain": [
       "[True, True]"
      ]
     },
     "execution_count": 2,
     "metadata": {},
     "output_type": "execute_result"
    }
   ],
   "source": [
    "def download_lens_data(source,destination):\n",
    "    \"\"\"Downloads movie lens data\n",
    "    \"\"\"\n",
    "    dst_f = Path(destination) / Path(source).name\n",
    "    r = requests.get(source)\n",
    "    if r.ok:\n",
    "        with open(dst_f,\"wb\") as f:\n",
    "            f.write(r.content)\n",
    "    return dst_f\n",
    "\n",
    "downloaded_files = download_lens_data(DATASET_LOCATION, dst_d)\n",
    "\n",
    "def unzip_files(zipped_file,destination):\n",
    "    \"\"\"Unzips a movie lens data set file\n",
    "    \"\"\"\n",
    "    zip_dir = Path(zipped_file).stem\n",
    "    needed_files = [\"ratings.csv\", \"movies.csv\"]\n",
    "    needed_files = [ Path(zip_dir) / Path(f) for f in needed_files]\n",
    "    needed_files = [ Path(destination) / f for f in needed_files ]\n",
    "    \n",
    "    with zipfile.ZipFile(zipped_file,'r') as z:\n",
    "        z.extractall(destination)\n",
    "    return needed_files\n",
    "\n",
    "needed_files = unzip_files(downloaded_files, dst_d)\n",
    "[os.path.exists(f) for f in needed_files]"
   ]
  },
  {
   "cell_type": "code",
   "execution_count": 3,
   "metadata": {},
   "outputs": [
    {
     "data": {
      "text/html": [
       "<div><style>\n",
       ".dataframe > thead > tr,\n",
       ".dataframe > tbody > tr {\n",
       "  text-align: right;\n",
       "  white-space: pre-wrap;\n",
       "}\n",
       "</style>\n",
       "<small>shape: (5, 4)</small><table border=\"1\" class=\"dataframe\"><thead><tr><th>userId</th><th>movieId</th><th>rating</th><th>title</th></tr><tr><td>i64</td><td>i64</td><td>f64</td><td>str</td></tr></thead><tbody><tr><td>1</td><td>1</td><td>4.0</td><td>&quot;Toy Story (199…</td></tr><tr><td>1</td><td>3</td><td>4.0</td><td>&quot;Grumpier Old M…</td></tr><tr><td>1</td><td>6</td><td>4.0</td><td>&quot;Heat (1995)&quot;</td></tr><tr><td>1</td><td>47</td><td>5.0</td><td>&quot;Seven (a.k.a. …</td></tr><tr><td>1</td><td>50</td><td>5.0</td><td>&quot;Usual Suspects…</td></tr></tbody></table></div>"
      ],
      "text/plain": [
       "shape: (5, 4)\n",
       "┌────────┬─────────┬────────┬─────────────────────────────┐\n",
       "│ userId ┆ movieId ┆ rating ┆ title                       │\n",
       "│ ---    ┆ ---     ┆ ---    ┆ ---                         │\n",
       "│ i64    ┆ i64     ┆ f64    ┆ str                         │\n",
       "╞════════╪═════════╪════════╪═════════════════════════════╡\n",
       "│ 1      ┆ 1       ┆ 4.0    ┆ Toy Story (1995)            │\n",
       "│ 1      ┆ 3       ┆ 4.0    ┆ Grumpier Old Men (1995)     │\n",
       "│ 1      ┆ 6       ┆ 4.0    ┆ Heat (1995)                 │\n",
       "│ 1      ┆ 47      ┆ 5.0    ┆ Seven (a.k.a. Se7en) (1995) │\n",
       "│ 1      ┆ 50      ┆ 5.0    ┆ Usual Suspects, The (1995)  │\n",
       "└────────┴─────────┴────────┴─────────────────────────────┘"
      ]
     },
     "execution_count": 3,
     "metadata": {},
     "output_type": "execute_result"
    }
   ],
   "source": [
    "def generate_individual_rating_list(ratings_csv, movies_csv):\n",
    "    ratings_df = pl.read_csv(ratings_csv)\n",
    "    ratings_df.drop_in_place(\"timestamp\")\n",
    "    movies_df = pl.read_csv(movies_csv)\n",
    "    movies_df.drop_in_place(\"genres\")\n",
    "    combined_df = ratings_df.join(movies_df, on=\"movieId\")\n",
    "    combined_df.shrink_to_fit()\n",
    "    del movies_df\n",
    "    del ratings_df\n",
    "    return combined_df\n",
    "\n",
    "\n",
    "\n",
    "user_ratings = generate_individual_rating_list(needed_files[0],needed_files[1])\n",
    "user_ratings.head()\n",
    "    "
   ]
  },
  {
   "cell_type": "code",
   "execution_count": null,
   "metadata": {},
   "outputs": [],
   "source": [
    "def generate_movie_encoding(length, set):\n",
    "    l = np.zeros(length,np.int8)\n",
    "    if not isinstance(set,list):\n",
    "        set = [set]\n",
    "    set = [s-1 for s in set]\n",
    "    np.put(l, set, 1 )\n",
    "    return l.tolist()\n",
    "\n",
    "largest_id = user_ratings.select(pl.max('movieId')).to_numpy()[0][0]\n",
    "\n",
    "encode_movie = partial(generate_movie_encoding,largest_id)\n"
   ]
  },
  {
   "cell_type": "code",
   "execution_count": null,
   "metadata": {},
   "outputs": [],
   "source": [
    "def generate_user_encoding(user_id):\n",
    "        return user_by_movie.filter(pl.col(\"userId\") == user_id).drop(\"userId\").to_numpy()[0].tolist()\n",
    "uid_encoding_table = pl.from_dict({ str(u) : generate_user_encoding(u) for u in user_by_movie.select([\"userId\"]).unique().to_dict().get('userId').to_list()}).transpose(include_header=True, header_name = \"userId\").with_columns(pl.col(\"userId\").cast(pl.Int16).alias(\"userId\"))"
   ]
  },
  {
   "cell_type": "code",
   "execution_count": null,
   "metadata": {},
   "outputs": [],
   "source": []
  }
 ],
 "metadata": {
  "kernelspec": {
   "display_name": "Python 3 (ipykernel)",
   "language": "python",
   "name": "python3"
  },
  "language_info": {
   "codemirror_mode": {
    "name": "ipython",
    "version": 3
   },
   "file_extension": ".py",
   "mimetype": "text/x-python",
   "name": "python",
   "nbconvert_exporter": "python",
   "pygments_lexer": "ipython3",
   "version": "3.10.12"
  }
 },
 "nbformat": 4,
 "nbformat_minor": 4
}
